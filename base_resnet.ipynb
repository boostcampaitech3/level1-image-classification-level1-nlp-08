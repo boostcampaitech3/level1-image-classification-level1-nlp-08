{
 "cells": [
  {
   "cell_type": "code",
   "execution_count": 5,
   "metadata": {},
   "outputs": [],
   "source": [
    "import os\n",
    "import numpy as np\n",
    "import pandas as pd\n",
    "import matplotlib.pyplot as plt\n",
    "from PIL import Image\n",
    "\n",
    "import torch\n",
    "import torchvision \n",
    "import torch.nn as nn\n",
    "import torch.optim as optim\n",
    "import torch.nn.functional as F\n",
    "from torchvision import transforms, utils\n",
    "from torchvision.transforms import ToTensor, Resize, Normalize\n",
    "from torch.utils.data import Dataset, DataLoader, random_split, SubsetRandomSampler, WeightedRandomSampler"
   ]
  },
  {
   "cell_type": "code",
   "execution_count": 6,
   "metadata": {},
   "outputs": [],
   "source": [
    "train_path = '/opt/ml/input/data/train'\n",
    "train_image_dir_path = os.path.join(train_path, 'images')"
   ]
  },
  {
   "cell_type": "code",
   "execution_count": 7,
   "metadata": {},
   "outputs": [],
   "source": [
    "def search(dirname, result):\n",
    "  try:\n",
    "    filenames = os.listdir(dirname)\n",
    "    for filename in filenames:\n",
    "      if filename[0] == '.':\n",
    "        continue\n",
    "      full_filename = os.path.join(dirname, filename)\n",
    "      if os.path.isdir(full_filename):\n",
    "        search(full_filename, result)\n",
    "      else:\n",
    "        ext = os.path.splitext(full_filename)[-1]\n",
    "        if ext:\n",
    "          result.append(full_filename)\n",
    "  except PermissionError:\n",
    "    pass"
   ]
  },
  {
   "cell_type": "code",
   "execution_count": null,
   "metadata": {},
   "outputs": [],
   "source": [
    "all_path = []\n",
    "search(train_image_dir_path, all_path)"
   ]
  },
  {
   "cell_type": "code",
   "execution_count": null,
   "metadata": {},
   "outputs": [],
   "source": [
    "len(all_path)\n",
    "# 18900장이 나타나면 성공"
   ]
  },
  {
   "cell_type": "code",
   "execution_count": null,
   "metadata": {},
   "outputs": [],
   "source": [
    "exts = []\n",
    "for i in all_path:\n",
    "  ext = os.path.splitext(i)[-1]\n",
    "  if ext not in exts:\n",
    "    exts.append(ext)\n",
    "print(exts)"
   ]
  },
  {
   "cell_type": "code",
   "execution_count": null,
   "metadata": {},
   "outputs": [],
   "source": [
    "all_path = sorted(all_path)"
   ]
  },
  {
   "cell_type": "code",
   "execution_count": null,
   "metadata": {},
   "outputs": [],
   "source": [
    "def labelling(name):\n",
    "  label = 0\n",
    "  info, mask_type = name.split('/')[-2:]\n",
    "  info = info.split('_')\n",
    "  gender, age = info[1], int(info[3])\n",
    "  if 'incorrect' in mask_type:\n",
    "    label += 6\n",
    "  elif 'normal' in mask_type:\n",
    "    label += 12\n",
    "  \n",
    "  if gender == 'female':\n",
    "    label += 3\n",
    "  \n",
    "  if 27 <= age < 57:\n",
    "    label += 1\n",
    "  elif age >= 58:\n",
    "    label += 2\n",
    "  \n",
    "  return label"
   ]
  },
  {
   "cell_type": "code",
   "execution_count": null,
   "metadata": {},
   "outputs": [],
   "source": [
    "train_path_label = pd.DataFrame(all_path, columns=['path'])\n",
    "train_path_label"
   ]
  },
  {
   "cell_type": "code",
   "execution_count": null,
   "metadata": {},
   "outputs": [],
   "source": [
    "train_path_label['label'] = train_path_label['path'].map(lambda x: labelling(x))\n",
    "train_path_label"
   ]
  },
  {
   "cell_type": "code",
   "execution_count": null,
   "metadata": {},
   "outputs": [],
   "source": [
    "class CustomDataset(Dataset):\n",
    "  def __init__(self, img_path_label, transforms):\n",
    "    self.X = img_path_label['path']\n",
    "    self.y = img_path_label['label']\n",
    "    self.transforms = transforms\n",
    "  \n",
    "  def __getitem__(self, index):\n",
    "    img = Image.open(self.X.iloc[index])\n",
    "    if self.transforms:\n",
    "      img = self.transforms(img)\n",
    "    label = self.y.iloc[index]\n",
    "    return img, label\n",
    "\n",
    "  def __len__(self):\n",
    "    return len(self.X)\n",
    "  \n",
    "  "
   ]
  },
  {
   "cell_type": "code",
   "execution_count": 13,
   "metadata": {},
   "outputs": [
    {
     "name": "stderr",
     "output_type": "stream",
     "text": [
      "/Users/gim-eungi/opt/anaconda3/lib/python3.9/site-packages/torchvision/transforms/transforms.py:287: UserWarning: Argument interpolation should be of type InterpolationMode instead of int. Please, use InterpolationMode enum.\n",
      "  warnings.warn(\n"
     ]
    }
   ],
   "source": [
    "transform = transforms.Compose([\n",
    "  Resize((512, 384), Image.BILINEAR),\n",
    "  ToTensor(),\n",
    "  Normalize(mean=[0.485, 0.456, 0.406], std=[0.229, 0.224, 0.225])\n",
    "])"
   ]
  },
  {
   "cell_type": "code",
   "execution_count": null,
   "metadata": {},
   "outputs": [],
   "source": [
    "from sklearn.model_selection import train_test_split\n",
    "train, valid = train_test_split(train_path_label, test_size=0.2, random_state=42,\n",
    "                                shuffle = True, stratify = train_path_label['label'],\n",
    "                                )"
   ]
  },
  {
   "cell_type": "code",
   "execution_count": null,
   "metadata": {},
   "outputs": [],
   "source": [
    "BATCH_SIZE = 64"
   ]
  },
  {
   "cell_type": "code",
   "execution_count": null,
   "metadata": {},
   "outputs": [],
   "source": [
    "train_dataset = CustomDataset(train, transform)\n",
    "\n",
    "train_dataloader = DataLoader(dataset=train_dataset,batch_size=BATCH_SIZE,shuffle=True)"
   ]
  },
  {
   "cell_type": "code",
   "execution_count": null,
   "metadata": {},
   "outputs": [],
   "source": [
    "valid_dataset = CustomDataset(valid, transform)\n",
    "valid_dataloader = DataLoader(dataset=valid_dataset,batch_size=BATCH_SIZE,shuffle=True)"
   ]
  },
  {
   "cell_type": "code",
   "execution_count": null,
   "metadata": {},
   "outputs": [],
   "source": [
    "next(iter(train_dataloader))[0].shape"
   ]
  },
  {
   "cell_type": "code",
   "execution_count": null,
   "metadata": {},
   "outputs": [],
   "source": []
  },
  {
   "cell_type": "code",
   "execution_count": null,
   "metadata": {},
   "outputs": [],
   "source": []
  }
 ],
 "metadata": {
  "interpreter": {
   "hash": "923cf14e4f735e661d37344983c530abf644c7c50c65b0a4bc6d23970242bbc2"
  },
  "kernelspec": {
   "display_name": "Python 3.9.7 ('base')",
   "language": "python",
   "name": "python3"
  },
  "language_info": {
   "codemirror_mode": {
    "name": "ipython",
    "version": 3
   },
   "file_extension": ".py",
   "mimetype": "text/x-python",
   "name": "python",
   "nbconvert_exporter": "python",
   "pygments_lexer": "ipython3",
   "version": "3.9.7"
  },
  "orig_nbformat": 4
 },
 "nbformat": 4,
 "nbformat_minor": 2
}
